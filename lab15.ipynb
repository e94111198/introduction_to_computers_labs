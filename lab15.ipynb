{
  "cells": [
    {
      "cell_type": "markdown",
      "metadata": {
        "id": "view-in-github",
        "colab_type": "text"
      },
      "source": [
        "<a href=\"https://colab.research.google.com/github/e94111198/introduction_to_computers_labs/blob/master/lab15.ipynb\" target=\"_parent\"><img src=\"https://colab.research.google.com/assets/colab-badge.svg\" alt=\"Open In Colab\"/></a>"
      ]
    },
    {
      "cell_type": "markdown",
      "metadata": {
        "id": "4sVfxRF2UC2H"
      },
      "source": [
        "# 下載 MNIST 資料\n",
        "---\n",
        "首先，匯入 keras 和相關模組。"
      ]
    },
    {
      "cell_type": "code",
      "execution_count": null,
      "metadata": {
        "id": "r43pJCz-n8vP"
      },
      "outputs": [],
      "source": [
        "# 匯入 numpy 和 pandas 模組，numpy 是 python 的程式庫，支援維度陣列與矩陣運算。\n",
        "# pandas 則提供檔案存取和數據操縱。\n",
        "import numpy as np\n",
        "import pandas as pd\n",
        "# 從 keras.utils 匯入 to_categroical，因為後續要將 label 標籤 轉換成 one-hot encoding。\n",
        "from tensorflow.keras.utils import to_categorical\n",
        "# 設定 seed 可以讓每次產生隨機值時，都會有相同的輸出。(若使用GPU，則無法每次皆相同)\n",
        "# 須改為學號末四碼\n",
        "seed = 1198\n",
        "np.random.seed(seed)"
      ]
    },
    {
      "cell_type": "markdown",
      "metadata": {
        "id": "hgn5zsNAYY6A"
      },
      "source": [
        "Keras 中已經提供許多機器學習常用的數據集，包括波士頓房地產數據、CIFAR10、和這次範例要使用的手寫數據集。所以先從 keras 匯入 MNIST。\n",
        "\n",
        "第一次執行 mnist.load_data() ，程式會檢查目錄是否已經有檔案，如果沒有就會自動下載，所以第一次可能都會比較久。之後再次執行時不用再次下載就會快速很多。\n"
      ]
    },
    {
      "cell_type": "code",
      "execution_count": null,
      "metadata": {
        "id": "vlDNq1x_n8vS"
      },
      "outputs": [],
      "source": [
        "from tensorflow.keras.datasets import mnist,cifar10\n",
        "(X_train_image, y_train_label),\\\n",
        "    (X_test_image, y_test_label) = mnist.load_data()"
      ]
    },
    {
      "cell_type": "markdown",
      "metadata": {
        "id": "4GZl5_1ndtWZ"
      },
      "source": [
        "先來看看 MNIST 資料數據集的筆數，還有訓練資料的組成。\n",
        "\n",
        "可以看到 train 訓練資料有 60000 筆，test 測試資料有 10000 筆。\n",
        "\n",
        "訓練資料是由 images 和 labels 所組成共 60000 筆， images 是單色的數字影像，labels 是數字影像對應的真實值。"
      ]
    },
    {
      "cell_type": "code",
      "execution_count": null,
      "metadata": {
        "colab": {
          "base_uri": "https://localhost:8080/"
        },
        "id": "FsuxbJdEn8vS",
        "outputId": "f46f3157-0bc5-4552-900c-ce98b9a09927"
      },
      "outputs": [
        {
          "output_type": "stream",
          "name": "stdout",
          "text": [
            "train data :  60000\n",
            "test data :  10000\n"
          ]
        }
      ],
      "source": [
        "print('train data : ', len(X_train_image))\n",
        "print('test data : ', len(X_test_image))"
      ]
    },
    {
      "cell_type": "code",
      "execution_count": null,
      "metadata": {
        "colab": {
          "base_uri": "https://localhost:8080/"
        },
        "id": "sxNW-yfUn8vT",
        "outputId": "894bb34d-d97d-4636-c3b4-0531ac51048d"
      },
      "outputs": [
        {
          "output_type": "stream",
          "name": "stdout",
          "text": [
            "x_train_image :  (60000, 28, 28)\n",
            "y_train_label :  (60000,)\n"
          ]
        }
      ],
      "source": [
        "print('x_train_image : ', X_train_image.shape)\n",
        "print('y_train_label : ', y_train_label.shape)"
      ]
    },
    {
      "cell_type": "markdown",
      "metadata": {
        "id": "p1UqvEszhGu7"
      },
      "source": [
        "# 建立 plot_image 函式來顯示數字影像\n",
        "---\n",
        "來看看剛剛匯入的手寫數字圖像。\n",
        "\n"
      ]
    },
    {
      "cell_type": "code",
      "execution_count": null,
      "metadata": {
        "id": "aldFBwdNn8vU"
      },
      "outputs": [],
      "source": [
        "import matplotlib.pyplot as plt\n",
        "def plot_image(image):\n",
        "    # 設定圖形顯示大小\n",
        "    fig = plt.gcf()\n",
        "    fig.set_size_inches(2, 2)\n",
        "    # 使用 plt.imshow() 顯示圖像，傳入參數是 28 X 28 的圖形，\n",
        "    # cmap 參數設定為 binary 以黑白灰階顯示\n",
        "    plt.imshow(image, cmap = 'binary')\n",
        "    # 開始繪圖\n",
        "    plt.show()"
      ]
    },
    {
      "cell_type": "markdown",
      "metadata": {
        "id": "-5OMZLgiljix"
      },
      "source": [
        "傳入訓練集第一筆資料，來看看他的影像。"
      ]
    },
    {
      "cell_type": "code",
      "execution_count": null,
      "metadata": {
        "colab": {
          "base_uri": "https://localhost:8080/",
          "height": 159
        },
        "id": "qrrZ-gcfn8vU",
        "outputId": "b43b33de-77fd-4767-e711-cc1905211d22"
      },
      "outputs": [
        {
          "output_type": "display_data",
          "data": {
            "text/plain": [
              "<Figure size 144x144 with 1 Axes>"
            ],
            "image/png": "[encoded data removed]"
          },
          "metadata": {
            "needs_background": "light"
          }
        }
      ],
      "source": [
        "plot_image(X_train_image[0])"
      ]
    },
    {
      "cell_type": "markdown",
      "metadata": {
        "id": "R43L94LSl2IK"
      },
      "source": [
        "看看第一筆資料的 label"
      ]
    },
    {
      "cell_type": "code",
      "execution_count": null,
      "metadata": {
        "colab": {
          "base_uri": "https://localhost:8080/"
        },
        "id": "CctZ26v_n8vV",
        "outputId": "bdf81c0f-1f32-463c-82f3-65343f44e484"
      },
      "outputs": [
        {
          "output_type": "execute_result",
          "data": {
            "text/plain": [
              "5"
            ]
          },
          "metadata": {},
          "execution_count": 75
        }
      ],
      "source": [
        "y_train_label[0]"
      ]
    },
    {
      "cell_type": "markdown",
      "metadata": {
        "id": "oXPaFNNjounB"
      },
      "source": [
        "# 查看多筆資料 images 與 labels\n",
        "---\n",
        "定義 plot_images_labels_prediction() 函式，傳入以下參數：images(數字影像)、labels(對應數字真實值)、prediction(預測結果)、idx(開始顯示影像的index)、num(要顯示的資料筆數，預設是10，不超過25)\n"
      ]
    },
    {
      "cell_type": "code",
      "execution_count": null,
      "metadata": {
        "id": "wVDmYBSWn8vV"
      },
      "outputs": [],
      "source": [
        "def plot_images_labels_prediction(images, labels, prediction,\n",
        "                                    idx, num = 10):\n",
        "    # 設定顯示圖形大小\n",
        "    fig = plt.gcf()\n",
        "    fig.set_size_inches(12, 14)\n",
        "    # 如果顯示筆數大於25 則將他設定為25 以避免錯誤\n",
        "    if num > 25: num = 25\n",
        "    # 使用 for 迴圈依序畫出 num 個數字圖形\n",
        "    for i in range(0, num):\n",
        "        ax = plt.subplot(5, 5, 1+i) # 建立 5 X 5 的 subgraph 子圖形\n",
        "        ax.imshow(images[idx], cmap = 'binary') # 畫出 subgraph 子圖形\n",
        "        title = \"label=\" + str(labels[idx]) # 設定子圖形 title 顯示標籤欄位\n",
        "        if len(prediction) > 0: # 如果 prediction 有傳入值\n",
        "            title += \",predict=\" + str(prediction[idx]) # 將 prediction 加入 title\n",
        "        ax.set_title(title, fontsize = 10) # 設定標題大小\n",
        "        ax.set_xticks([]); ax.set_yticks([]) # 設定不顯示刻度\n",
        "        idx += 1 # 讀取下一筆\n",
        "    plt.show() # 開始畫圖"
      ]
    },
    {
      "cell_type": "markdown",
      "metadata": {
        "id": "epHsMhfHzBAT"
      },
      "source": [
        "顯示訓練資料前 10 筆資料。不過目前還沒有預測結果所以傳入空 list ，由第 0 筆開始顯示至第 9 筆。"
      ]
    },
    {
      "cell_type": "code",
      "execution_count": null,
      "metadata": {
        "colab": {
          "base_uri": "https://localhost:8080/",
          "height": 321
        },
        "id": "y-iLff1vn8vW",
        "outputId": "583ce921-3e4a-453c-ac52-5f0fbc4d181d"
      },
      "outputs": [
        {
          "output_type": "display_data",
          "data": {
            "text/plain": [
              "<Figure size 864x1008 with 10 Axes>"
            ],
            "image/png": "[encoded data removed]"
          },
          "metadata": {}
        }
      ],
      "source": [
        "plot_images_labels_prediction(X_train_image, y_train_label, [], 0, 10)"
      ]
    },
    {
      "cell_type": "markdown",
      "metadata": {
        "id": "Ae4v3BOYzfz0"
      },
      "source": [
        "查看 test 測試資料筆數，可以看到共10000筆資料。"
      ]
    },
    {
      "cell_type": "code",
      "execution_count": null,
      "metadata": {
        "colab": {
          "base_uri": "https://localhost:8080/"
        },
        "id": "TKTXr0uin8vW",
        "outputId": "dc588f4a-eafc-4db6-8a7d-96a2dc146549"
      },
      "outputs": [
        {
          "output_type": "stream",
          "name": "stdout",
          "text": [
            "x_test_image :  (10000, 28, 28)\n",
            "y_test_label :  (10000,)\n"
          ]
        }
      ],
      "source": [
        "print('x_test_image : ', X_test_image.shape)\n",
        "print('y_test_label : ', y_test_label.shape)"
      ]
    },
    {
      "cell_type": "markdown",
      "metadata": {
        "id": "KteBBFUTzr3s"
      },
      "source": [
        "顯示測試資料前 10 筆資料圖形。"
      ]
    },
    {
      "cell_type": "code",
      "execution_count": null,
      "metadata": {
        "colab": {
          "base_uri": "https://localhost:8080/",
          "height": 321
        },
        "id": "ISt-J68Zn8vX",
        "outputId": "6e89f35d-1e3e-4f4a-85df-885c1952802c"
      },
      "outputs": [
        {
          "output_type": "display_data",
          "data": {
            "text/plain": [
              "<Figure size 864x1008 with 10 Axes>"
            ],
            "image/png": "[encoded data removed]"
          },
          "metadata": {}
        }
      ],
      "source": [
        "plot_images_labels_prediction(X_test_image, y_test_label, [], 0, 10)"
      ]
    },
    {
      "cell_type": "markdown",
      "metadata": {
        "id": "HRNmke3J1E1t"
      },
      "source": [
        "# feature(數字影像的特徵值)資料預處理\n"
      ]
    },
    {
      "cell_type": "code",
      "execution_count": null,
      "metadata": {
        "id": "ms3N-1iUn8vX"
      },
      "outputs": [],
      "source": [
        "X_Train = X_train_image.astype('float32')\n",
        "X_Test = X_test_image.astype('float32')"
      ]
    },
    {
      "cell_type": "markdown",
      "metadata": {
        "id": "AdqLK9G12DbJ"
      },
      "source": [
        "查看一下每一個數字影像都變成 784 個 float 數字。"
      ]
    },
    {
      "cell_type": "code",
      "execution_count": null,
      "metadata": {
        "colab": {
          "base_uri": "https://localhost:8080/"
        },
        "id": "uBbTQ0gWn8vX",
        "outputId": "dfe59851-0cae-49e1-e4a9-f598a9749f82"
      },
      "outputs": [
        {
          "output_type": "stream",
          "name": "stdout",
          "text": [
            "x_train :  (60000, 28, 28)\n",
            "x_test :  (10000, 28, 28)\n"
          ]
        }
      ],
      "source": [
        "print('x_train : ', X_Train.shape)\n",
        "print('x_test : ', X_Test.shape)"
      ]
    },
    {
      "cell_type": "markdown",
      "metadata": {
        "id": "ivdFFYiD2WqY"
      },
      "source": [
        "將 image 的數字標準化。\n",
        "\n",
        "因為圖像的數字是介於 0 到 255，所以最簡單的方法就是除以 255。"
      ]
    },
    {
      "cell_type": "code",
      "execution_count": null,
      "metadata": {
        "id": "NDMKuvtIn8vY"
      },
      "outputs": [],
      "source": [
        "X_Train_normalize = X_Train / 255\n",
        "X_Test_normalize = X_Test / 255"
      ]
    },
    {
      "cell_type": "markdown",
      "metadata": {
        "id": "CDWfCYgu29br"
      },
      "source": [
        "# labels(數字影像對應真實值)資料預處理\n",
        "---\n",
        "先來查看一下訓練資料 label 標籤欄位前五筆資料，可以看到這是 0 ~ 9 的單一數字。"
      ]
    },
    {
      "cell_type": "code",
      "execution_count": null,
      "metadata": {
        "colab": {
          "base_uri": "https://localhost:8080/"
        },
        "id": "_OPr_LFYn8vY",
        "outputId": "7f9aa210-f984-4dba-d459-3f8efb304f69"
      },
      "outputs": [
        {
          "output_type": "execute_result",
          "data": {
            "text/plain": [
              "array([5, 0, 4, 1, 9], dtype=uint8)"
            ]
          },
          "metadata": {},
          "execution_count": 83
        }
      ],
      "source": [
        "y_train_label[:5]"
      ]
    },
    {
      "cell_type": "markdown",
      "metadata": {
        "id": "0HVpRwTMlWTo"
      },
      "source": [
        "使用我們開頭匯入的 to_categorical函式，傳入 label 標籤，將他們轉換成 one-hot encoding。"
      ]
    },
    {
      "cell_type": "code",
      "execution_count": null,
      "metadata": {
        "id": "Am_djE9Cn8vY"
      },
      "outputs": [],
      "source": [
        "y_TrainOneHot = to_categorical(y_train_label)\n",
        "y_TestOneHot = to_categorical(y_test_label)"
      ]
    },
    {
      "cell_type": "markdown",
      "metadata": {
        "id": "IdhtS_VDl6kg"
      },
      "source": [
        "查看轉換過後的結果。"
      ]
    },
    {
      "cell_type": "code",
      "execution_count": null,
      "metadata": {
        "colab": {
          "base_uri": "https://localhost:8080/"
        },
        "id": "ehbvMVISn8vZ",
        "outputId": "e5cda2ae-e225-40a2-d6c4-569195328236"
      },
      "outputs": [
        {
          "output_type": "execute_result",
          "data": {
            "text/plain": [
              "array([[0., 0., 0., 0., 0., 1., 0., 0., 0., 0.],\n",
              "       [1., 0., 0., 0., 0., 0., 0., 0., 0., 0.],\n",
              "       [0., 0., 0., 0., 1., 0., 0., 0., 0., 0.],\n",
              "       [0., 1., 0., 0., 0., 0., 0., 0., 0., 0.],\n",
              "       [0., 0., 0., 0., 0., 0., 0., 0., 0., 1.]], dtype=float32)"
            ]
          },
          "metadata": {},
          "execution_count": 85
        }
      ],
      "source": [
        "y_TrainOneHot[:5]"
      ]
    },
    {
      "cell_type": "markdown",
      "metadata": {
        "id": "VZ24AXlCmC2g"
      },
      "source": [
        "# 建立 MLP 模型\n",
        "---\n",
        "接下來建立我們的多層感知器模型，輸入層共有 (28*28) 個神經元，隱藏層 32 個神經元，最後輸出層共有 10 個神經元。\n",
        "\n",
        "首先先匯入所需要的模組。"
      ]
    },
    {
      "cell_type": "code",
      "execution_count": null,
      "metadata": {
        "id": "6t3RUk-wn8vZ"
      },
      "outputs": [],
      "source": [
        "from tensorflow.keras import layers, metrics\n",
        "from tensorflow.keras.layers import Dense,InputLayer,Flatten\n",
        "from tensorflow.keras import models\n",
        "import tensorflow as tf\n",
        "tf.random.set_seed(seed)"
      ]
    },
    {
      "cell_type": "markdown",
      "metadata": {
        "id": "_KqO-SLQm7Dk"
      },
      "source": [
        "建立 Sequential 一個線性堆疊模型，後續只要使用 model.add() 將個神經網路層依序加入模型即可。"
      ]
    },
    {
      "cell_type": "code",
      "execution_count": null,
      "metadata": {
        "id": "RJKfB6H8n8vZ"
      },
      "outputs": [],
      "source": [
        "model = models.Sequential()"
      ]
    },
    {
      "cell_type": "markdown",
      "source": [
        "建立輸入層\n",
        "1.   設定輸入層神經元 維度為 (28,28,1)。\n",
        "2.   把(28,28,1)攤平，變成一維"
      ],
      "metadata": {
        "id": "3PvA6D4BrQmP"
      }
    },
    {
      "cell_type": "code",
      "source": [
        "model.add(InputLayer(input_shape=(28,28,1)))\n",
        "model.add(Flatten())"
      ],
      "metadata": {
        "id": "MlQx3w1krP2X"
      },
      "execution_count": null,
      "outputs": []
    },
    {
      "cell_type": "markdown",
      "metadata": {
        "id": "uvAqC0q3nZdO"
      },
      "source": [
        "建立隱藏層。\n",
        "1.   定義隱藏層神經元 32 個。\n",
        "2.   設定激活函數為 sigmoid\n",
        "。\n",
        "\n"
      ]
    },
    {
      "cell_type": "code",
      "execution_count": null,
      "metadata": {
        "id": "2bCNDEF7n8vZ"
      },
      "outputs": [],
      "source": [
        "model.add(Dense(32,  kernel_initializer = 'zeros',activation = 'softplus'))\n",
        "# elu exponential gelu hard_sigmoid linear relu selu sigmoid softmax softplus softsign swish tanh"
      ]
    },
    {
      "cell_type": "markdown",
      "metadata": {
        "id": "DU9GQ-0VoRaS"
      },
      "source": [
        "建立輸出層總共 10 個神經元，對應要分類的數字類別 0 ~ 9 。設定激活函數為 softmax ，這樣每一個神經元的輸出結果可視為預測每一個數字的機率。"
      ]
    },
    {
      "cell_type": "code",
      "execution_count": null,
      "metadata": {
        "id": "4cgofZ9Yn8va"
      },
      "outputs": [],
      "source": [
        "model.add(Dense(10, kernel_initializer = 'normal', activation = 'softmax'))"
      ]
    },
    {
      "cell_type": "markdown",
      "metadata": {
        "id": "I5tigyhWo3eg"
      },
      "source": [
        "來看看我們建好的模型的摘要。"
      ]
    },
    {
      "cell_type": "code",
      "execution_count": null,
      "metadata": {
        "colab": {
          "base_uri": "https://localhost:8080/"
        },
        "id": "yw-ifJ58n8va",
        "outputId": "ed0182b7-8552-445e-a048-147b478cb9be"
      },
      "outputs": [
        {
          "output_type": "stream",
          "name": "stdout",
          "text": [
            "Model: \"sequential_2\"\n",
            "_________________________________________________________________\n",
            " Layer (type)                Output Shape              Param #   \n",
            "=================================================================\n",
            " flatten_2 (Flatten)         (None, 784)               0         \n",
            "                                                                 \n",
            " dense_4 (Dense)             (None, 32)                25120     \n",
            "                                                                 \n",
            " dense_5 (Dense)             (None, 10)                330       \n",
            "                                                                 \n",
            "=================================================================\n",
            "Total params: 25,450\n",
            "Trainable params: 25,450\n",
            "Non-trainable params: 0\n",
            "_________________________________________________________________\n",
            "None\n"
          ]
        }
      ],
      "source": [
        "print(model.summary())"
      ]
    },
    {
      "cell_type": "markdown",
      "metadata": {
        "id": "mR__ZeJ8pS0Y"
      },
      "source": [
        "# 進行訓練\n",
        "---\n",
        "首先使用 compile ，對訓練模型進行設定。相關參數有：\n",
        "1.   loss : 設定損失函數，這邊使用 BinaryCrossentropy。另外也還有很多不同的函數，可以到 keras 官網查詢，不同的模型和資料都有他們最適合的函數。\n",
        "2.   optimizer : 設定優化方法，這邊使用 sgd 方法。同樣 keras 也提供很多種優化方法。\n",
        "1.   metrics : 設定評估模型的方式是 accuracy 準確率。"
      ]
    },
    {
      "cell_type": "code",
      "execution_count": null,
      "metadata": {
        "id": "CNMv_62tn8va"
      },
      "outputs": [],
      "source": [
        "loss_function = 'CategoricalCrossentropy' # CategoricalHinge BinaryCrossentropy BinaryFocalCrossentropy CategoricalCrossentropy \n",
        "optimize_function = 'Adam' # Adadelta , Adagrad ,Adam ,Adamax ,FTRL ,Nadam ,RMSprop ,sgd\n",
        "model.compile(loss = loss_function, optimizer = optimize_function,metrics = ['accuracy'])"
      ]
    },
    {
      "cell_type": "markdown",
      "metadata": {
        "id": "jeXXrNn_rCxB"
      },
      "source": [
        "開始訓練，過程都會儲存在 train_history 變數，其中的相關參數：\n",
        "1.   設定 validation_split = 0.2 ，將訓練資料 80% 作為訓練，20% 作為驗證資料。\n",
        "1.   設定 epochs 執行 10 次訓練週期。每一批次 batch_size 有 200 筆資料。\n",
        "2.   verbose = 2，顯示訓練過程。"
      ]
    },
    {
      "cell_type": "code",
      "execution_count": null,
      "metadata": {
        "colab": {
          "base_uri": "https://localhost:8080/"
        },
        "id": "A9mb8zN3n8va",
        "outputId": "d72c6fa4-4fca-4b9e-ca26-358a8c3cd075"
      },
      "outputs": [
        {
          "output_type": "stream",
          "name": "stdout",
          "text": [
            "Epoch 1/32\n",
            "480/480 - 2s - loss: 0.6580 - accuracy: 0.8394 - val_loss: 0.3123 - val_accuracy: 0.9129 - 2s/epoch - 4ms/step\n",
            "Epoch 2/32\n",
            "480/480 - 1s - loss: 0.3032 - accuracy: 0.9137 - val_loss: 0.2628 - val_accuracy: 0.9259 - 1s/epoch - 3ms/step\n",
            "Epoch 3/32\n",
            "480/480 - 1s - loss: 0.2592 - accuracy: 0.9265 - val_loss: 0.2306 - val_accuracy: 0.9353 - 1s/epoch - 3ms/step\n",
            "Epoch 4/32\n",
            "480/480 - 1s - loss: 0.2247 - accuracy: 0.9363 - val_loss: 0.2063 - val_accuracy: 0.9418 - 1s/epoch - 3ms/step\n",
            "Epoch 5/32\n",
            "480/480 - 2s - loss: 0.1980 - accuracy: 0.9440 - val_loss: 0.1880 - val_accuracy: 0.9503 - 2s/epoch - 4ms/step\n",
            "Epoch 6/32\n",
            "480/480 - 2s - loss: 0.1779 - accuracy: 0.9485 - val_loss: 0.1764 - val_accuracy: 0.9505 - 2s/epoch - 5ms/step\n",
            "Epoch 7/32\n",
            "480/480 - 2s - loss: 0.1623 - accuracy: 0.9529 - val_loss: 0.1651 - val_accuracy: 0.9559 - 2s/epoch - 5ms/step\n",
            "Epoch 8/32\n",
            "480/480 - 2s - loss: 0.1497 - accuracy: 0.9569 - val_loss: 0.1562 - val_accuracy: 0.9573 - 2s/epoch - 5ms/step\n",
            "Epoch 9/32\n",
            "480/480 - 2s - loss: 0.1387 - accuracy: 0.9597 - val_loss: 0.1480 - val_accuracy: 0.9585 - 2s/epoch - 4ms/step\n",
            "Epoch 10/32\n",
            "480/480 - 1s - loss: 0.1290 - accuracy: 0.9624 - val_loss: 0.1437 - val_accuracy: 0.9591 - 1s/epoch - 2ms/step\n",
            "Epoch 11/32\n",
            "480/480 - 1s - loss: 0.1204 - accuracy: 0.9653 - val_loss: 0.1429 - val_accuracy: 0.9589 - 1s/epoch - 3ms/step\n",
            "Epoch 12/32\n",
            "480/480 - 1s - loss: 0.1130 - accuracy: 0.9666 - val_loss: 0.1342 - val_accuracy: 0.9622 - 1s/epoch - 3ms/step\n",
            "Epoch 13/32\n",
            "480/480 - 1s - loss: 0.1070 - accuracy: 0.9685 - val_loss: 0.1325 - val_accuracy: 0.9615 - 1s/epoch - 3ms/step\n",
            "Epoch 14/32\n",
            "480/480 - 1s - loss: 0.1007 - accuracy: 0.9709 - val_loss: 0.1313 - val_accuracy: 0.9618 - 1s/epoch - 3ms/step\n",
            "Epoch 15/32\n",
            "480/480 - 1s - loss: 0.0956 - accuracy: 0.9720 - val_loss: 0.1254 - val_accuracy: 0.9653 - 1s/epoch - 2ms/step\n",
            "Epoch 16/32\n",
            "480/480 - 1s - loss: 0.0909 - accuracy: 0.9739 - val_loss: 0.1277 - val_accuracy: 0.9641 - 1s/epoch - 3ms/step\n",
            "Epoch 17/32\n",
            "480/480 - 1s - loss: 0.0860 - accuracy: 0.9754 - val_loss: 0.1278 - val_accuracy: 0.9643 - 1s/epoch - 3ms/step\n",
            "Epoch 18/32\n",
            "480/480 - 1s - loss: 0.0823 - accuracy: 0.9757 - val_loss: 0.1218 - val_accuracy: 0.9655 - 1s/epoch - 3ms/step\n",
            "Epoch 19/32\n",
            "480/480 - 1s - loss: 0.0790 - accuracy: 0.9768 - val_loss: 0.1241 - val_accuracy: 0.9642 - 1s/epoch - 3ms/step\n",
            "Epoch 20/32\n",
            "480/480 - 1s - loss: 0.0758 - accuracy: 0.9773 - val_loss: 0.1214 - val_accuracy: 0.9652 - 1s/epoch - 3ms/step\n",
            "Epoch 21/32\n",
            "480/480 - 1s - loss: 0.0720 - accuracy: 0.9789 - val_loss: 0.1250 - val_accuracy: 0.9638 - 1s/epoch - 3ms/step\n",
            "Epoch 22/32\n",
            "480/480 - 1s - loss: 0.0691 - accuracy: 0.9797 - val_loss: 0.1225 - val_accuracy: 0.9657 - 1s/epoch - 3ms/step\n",
            "Epoch 23/32\n",
            "480/480 - 1s - loss: 0.0671 - accuracy: 0.9806 - val_loss: 0.1211 - val_accuracy: 0.9647 - 1s/epoch - 3ms/step\n",
            "Epoch 24/32\n",
            "480/480 - 1s - loss: 0.0635 - accuracy: 0.9815 - val_loss: 0.1222 - val_accuracy: 0.9661 - 1s/epoch - 3ms/step\n",
            "Epoch 25/32\n",
            "480/480 - 1s - loss: 0.0612 - accuracy: 0.9819 - val_loss: 0.1230 - val_accuracy: 0.9663 - 1s/epoch - 3ms/step\n",
            "Epoch 26/32\n",
            "480/480 - 1s - loss: 0.0586 - accuracy: 0.9833 - val_loss: 0.1237 - val_accuracy: 0.9658 - 1s/epoch - 3ms/step\n",
            "Epoch 27/32\n",
            "480/480 - 1s - loss: 0.0563 - accuracy: 0.9837 - val_loss: 0.1202 - val_accuracy: 0.9672 - 1s/epoch - 2ms/step\n",
            "Epoch 28/32\n",
            "480/480 - 1s - loss: 0.0543 - accuracy: 0.9842 - val_loss: 0.1231 - val_accuracy: 0.9655 - 1s/epoch - 2ms/step\n",
            "Epoch 29/32\n",
            "480/480 - 1s - loss: 0.0522 - accuracy: 0.9846 - val_loss: 0.1266 - val_accuracy: 0.9647 - 1s/epoch - 2ms/step\n",
            "Epoch 30/32\n",
            "480/480 - 1s - loss: 0.0505 - accuracy: 0.9853 - val_loss: 0.1286 - val_accuracy: 0.9642 - 1s/epoch - 3ms/step\n",
            "Epoch 31/32\n",
            "480/480 - 1s - loss: 0.0487 - accuracy: 0.9856 - val_loss: 0.1308 - val_accuracy: 0.9646 - 1s/epoch - 3ms/step\n",
            "Epoch 32/32\n",
            "480/480 - 1s - loss: 0.0467 - accuracy: 0.9866 - val_loss: 0.1245 - val_accuracy: 0.9653 - 1s/epoch - 3ms/step\n"
          ]
        }
      ],
      "source": [
        "train_history = model.fit(x = X_Train_normalize, y = y_TrainOneHot,\n",
        "                            validation_split = 0.2, epochs = 32, batch_size = 100,\n",
        "                            verbose = 2)"
      ]
    },
    {
      "cell_type": "markdown",
      "metadata": {
        "id": "y2UhJPyc39PF"
      },
      "source": [
        "建立函式顯示訓練過程，會將每一個訓練週期的 accuracy 和 loss 以圖表顯示出來。"
      ]
    },
    {
      "cell_type": "code",
      "execution_count": null,
      "metadata": {
        "id": "oQgpTAEfn8vb"
      },
      "outputs": [],
      "source": [
        "def show_train_history(train_history, train, validation):\n",
        "    plt.plot(train_history.history[train])\n",
        "    plt.plot(train_history.history[validation])\n",
        "    plt.title('Train History')\n",
        "    plt.ylabel(train)\n",
        "    plt.xlabel('Epoch')\n",
        "    plt.legend(['train', 'validation'], loc = 'upper left')\n",
        "    plt.show()"
      ]
    },
    {
      "cell_type": "code",
      "execution_count": null,
      "metadata": {
        "id": "Gd1cWRrKn8vb",
        "colab": {
          "base_uri": "https://localhost:8080/",
          "height": 295
        },
        "outputId": "4c04c7f3-ae3c-431b-ab75-c85a71e03c24"
      },
      "outputs": [
        {
          "output_type": "display_data",
          "data": {
            "text/plain": [
              "<Figure size 432x288 with 1 Axes>"
            ],
            "image/png": "[encoded data removed]"
          },
          "metadata": {
            "needs_background": "light"
          }
        }
      ],
      "source": [
        "show_train_history(train_history, 'accuracy', 'val_accuracy')"
      ]
    },
    {
      "cell_type": "code",
      "execution_count": null,
      "metadata": {
        "id": "BW7YX87on8vb",
        "colab": {
          "base_uri": "https://localhost:8080/",
          "height": 295
        },
        "outputId": "2612d7a4-8f17-483f-fca4-e01add00b9df"
      },
      "outputs": [
        {
          "output_type": "display_data",
          "data": {
            "text/plain": [
              "<Figure size 432x288 with 1 Axes>"
            ],
            "image/png": "[encoded data removed]"
          },
          "metadata": {
            "needs_background": "light"
          }
        }
      ],
      "source": [
        "show_train_history(train_history, 'loss', 'val_loss')"
      ]
    },
    {
      "cell_type": "markdown",
      "metadata": {
        "id": "fhHrcEWo4iJD"
      },
      "source": [
        "# 以測試資料評估模型準確率\n",
        "---\n"
      ]
    },
    {
      "cell_type": "code",
      "execution_count": null,
      "metadata": {
        "id": "FpMOSWR2n8vc",
        "colab": {
          "base_uri": "https://localhost:8080/"
        },
        "outputId": "8daf532a-3788-4186-dee6-23f881312c61"
      },
      "outputs": [
        {
          "output_type": "stream",
          "name": "stdout",
          "text": [
            "313/313 [==============================] - 1s 2ms/step - loss: 0.1196 - accuracy: 0.9680\n",
            "\n",
            "accuracy =  0.9679999947547913\n"
          ]
        }
      ],
      "source": [
        "scores = model.evaluate(X_Test_normalize, y_TestOneHot)\n",
        "print()\n",
        "print('accuracy = ', scores[1])"
      ]
    },
    {
      "cell_type": "markdown",
      "metadata": {
        "id": "80wdyNJY40PA"
      },
      "source": [
        "執行預測，將結果存到 prediction 中。"
      ]
    },
    {
      "cell_type": "code",
      "execution_count": null,
      "metadata": {
        "id": "PjVUnCEnn8vc",
        "colab": {
          "base_uri": "https://localhost:8080/"
        },
        "outputId": "dbe89e76-9d36-4819-cf23-c3d5861c11d3"
      },
      "outputs": [
        {
          "output_type": "stream",
          "name": "stdout",
          "text": [
            "313/313 [==============================] - 0s 1ms/step\n"
          ]
        }
      ],
      "source": [
        "prediction = np.argmax(model.predict(X_Test), axis = -1)"
      ]
    },
    {
      "cell_type": "code",
      "execution_count": null,
      "metadata": {
        "id": "h9SWS2kqn8vc",
        "colab": {
          "base_uri": "https://localhost:8080/"
        },
        "outputId": "4555d8f4-a2ce-438e-aaa5-d5cac6d868a6"
      },
      "outputs": [
        {
          "output_type": "execute_result",
          "data": {
            "text/plain": [
              "array([7, 2, 1, ..., 4, 5, 6])"
            ]
          },
          "metadata": {},
          "execution_count": 99
        }
      ],
      "source": [
        "prediction"
      ]
    },
    {
      "cell_type": "markdown",
      "metadata": {
        "id": "lpO7D8kU5Cc_"
      },
      "source": [
        "顯示 10 筆預測結果。"
      ]
    },
    {
      "cell_type": "code",
      "execution_count": null,
      "metadata": {
        "id": "3P_gdFyBn8vc",
        "scrolled": false,
        "colab": {
          "base_uri": "https://localhost:8080/",
          "height": 321
        },
        "outputId": "8d884388-2e55-4ed5-800e-befacdb365f9"
      },
      "outputs": [
        {
          "output_type": "display_data",
          "data": {
            "text/plain": [
              "<Figure size 864x1008 with 10 Axes>"
            ],
            "image/png": "[encoded data removed]"
          },
          "metadata": {}
        }
      ],
      "source": [
        "plot_images_labels_prediction(X_test_image, y_test_label, prediction, idx = 340)"
      ]
    },
    {
      "cell_type": "code",
      "source": [
        "y_test_label = y_test_label.reshape(10000)"
      ],
      "metadata": {
        "id": "bwAxlDHhxG-D"
      },
      "execution_count": null,
      "outputs": []
    },
    {
      "cell_type": "markdown",
      "metadata": {
        "id": "wPnqNhGnvgqS"
      },
      "source": [
        "混淆矩陣 "
      ]
    },
    {
      "cell_type": "code",
      "execution_count": null,
      "metadata": {
        "id": "MnGfKgExvgqS",
        "colab": {
          "base_uri": "https://localhost:8080/",
          "height": 394
        },
        "outputId": "adc661f5-8151-49bc-cfe1-e5ef9ef557d1"
      },
      "outputs": [
        {
          "output_type": "execute_result",
          "data": {
            "text/plain": [
              "predict    0     1    2    3    4    5    6    7    8    9\n",
              "label                                                     \n",
              "0        968     0    0    2    1    2    3    1    3    0\n",
              "1          0  1125    1    1    0    1    3    2    2    0\n",
              "2          6     4  981   17    1    1    7    6    8    1\n",
              "3          1     2    3  988    2    5    0    2    3    4\n",
              "4          1     1    2    1  943    2    9    2    0   21\n",
              "5          4     2    1   17    1  844    9    3    8    3\n",
              "6          6     2    2    1    3    4  939    0    1    0\n",
              "7          0     8   15   11    2    1    0  979    3    9\n",
              "8          9     1    6   20    5    7    9    4  909    4\n",
              "9          3     5    0   10   10    3    0    5    2  971"
            ],
            "text/html": [
              "\n",
              "  <div id=\"df-f14e93bc-6eb6-45de-b82a-3d3085335dae\">\n",
              "    <div class=\"colab-df-container\">\n",
              "      <div>\n",
              "<style scoped>\n",
              "    .dataframe tbody tr th:only-of-type {\n",
              "        vertical-align: middle;\n",
              "    }\n",
              "\n",
              "    .dataframe tbody tr th {\n",
              "        vertical-align: top;\n",
              "    }\n",
              "\n",
              "    .dataframe thead th {\n",
              "        text-align: right;\n",
              "    }\n",
              "</style>\n",
              "<table border=\"1\" class=\"dataframe\">\n",
              "  <thead>\n",
              "    <tr style=\"text-align: right;\">\n",
              "      <th>predict</th>\n",
              "      <th>0</th>\n",
              "      <th>1</th>\n",
              "      <th>2</th>\n",
              "      <th>3</th>\n",
              "      <th>4</th>\n",
              "      <th>5</th>\n",
              "      <th>6</th>\n",
              "      <th>7</th>\n",
              "      <th>8</th>\n",
              "      <th>9</th>\n",
              "    </tr>\n",
              "    <tr>\n",
              "      <th>label</th>\n",
              "      <th></th>\n",
              "      <th></th>\n",
              "      <th></th>\n",
              "      <th></th>\n",
              "      <th></th>\n",
              "      <th></th>\n",
              "      <th></th>\n",
              "      <th></th>\n",
              "      <th></th>\n",
              "      <th></th>\n",
              "    </tr>\n",
              "  </thead>\n",
              "  <tbody>\n",
              "    <tr>\n",
              "      <th>0</th>\n",
              "      <td>968</td>\n",
              "      <td>0</td>\n",
              "      <td>0</td>\n",
              "      <td>2</td>\n",
              "      <td>1</td>\n",
              "      <td>2</td>\n",
              "      <td>3</td>\n",
              "      <td>1</td>\n",
              "      <td>3</td>\n",
              "      <td>0</td>\n",
              "    </tr>\n",
              "    <tr>\n",
              "      <th>1</th>\n",
              "      <td>0</td>\n",
              "      <td>1125</td>\n",
              "      <td>1</td>\n",
              "      <td>1</td>\n",
              "      <td>0</td>\n",
              "      <td>1</td>\n",
              "      <td>3</td>\n",
              "      <td>2</td>\n",
              "      <td>2</td>\n",
              "      <td>0</td>\n",
              "    </tr>\n",
              "    <tr>\n",
              "      <th>2</th>\n",
              "      <td>6</td>\n",
              "      <td>4</td>\n",
              "      <td>981</td>\n",
              "      <td>17</td>\n",
              "      <td>1</td>\n",
              "      <td>1</td>\n",
              "      <td>7</td>\n",
              "      <td>6</td>\n",
              "      <td>8</td>\n",
              "      <td>1</td>\n",
              "    </tr>\n",
              "    <tr>\n",
              "      <th>3</th>\n",
              "      <td>1</td>\n",
              "      <td>2</td>\n",
              "      <td>3</td>\n",
              "      <td>988</td>\n",
              "      <td>2</td>\n",
              "      <td>5</td>\n",
              "      <td>0</td>\n",
              "      <td>2</td>\n",
              "      <td>3</td>\n",
              "      <td>4</td>\n",
              "    </tr>\n",
              "    <tr>\n",
              "      <th>4</th>\n",
              "      <td>1</td>\n",
              "      <td>1</td>\n",
              "      <td>2</td>\n",
              "      <td>1</td>\n",
              "      <td>943</td>\n",
              "      <td>2</td>\n",
              "      <td>9</td>\n",
              "      <td>2</td>\n",
              "      <td>0</td>\n",
              "      <td>21</td>\n",
              "    </tr>\n",
              "    <tr>\n",
              "      <th>5</th>\n",
              "      <td>4</td>\n",
              "      <td>2</td>\n",
              "      <td>1</td>\n",
              "      <td>17</td>\n",
              "      <td>1</td>\n",
              "      <td>844</td>\n",
              "      <td>9</td>\n",
              "      <td>3</td>\n",
              "      <td>8</td>\n",
              "      <td>3</td>\n",
              "    </tr>\n",
              "    <tr>\n",
              "      <th>6</th>\n",
              "      <td>6</td>\n",
              "      <td>2</td>\n",
              "      <td>2</td>\n",
              "      <td>1</td>\n",
              "      <td>3</td>\n",
              "      <td>4</td>\n",
              "      <td>939</td>\n",
              "      <td>0</td>\n",
              "      <td>1</td>\n",
              "      <td>0</td>\n",
              "    </tr>\n",
              "    <tr>\n",
              "      <th>7</th>\n",
              "      <td>0</td>\n",
              "      <td>8</td>\n",
              "      <td>15</td>\n",
              "      <td>11</td>\n",
              "      <td>2</td>\n",
              "      <td>1</td>\n",
              "      <td>0</td>\n",
              "      <td>979</td>\n",
              "      <td>3</td>\n",
              "      <td>9</td>\n",
              "    </tr>\n",
              "    <tr>\n",
              "      <th>8</th>\n",
              "      <td>9</td>\n",
              "      <td>1</td>\n",
              "      <td>6</td>\n",
              "      <td>20</td>\n",
              "      <td>5</td>\n",
              "      <td>7</td>\n",
              "      <td>9</td>\n",
              "      <td>4</td>\n",
              "      <td>909</td>\n",
              "      <td>4</td>\n",
              "    </tr>\n",
              "    <tr>\n",
              "      <th>9</th>\n",
              "      <td>3</td>\n",
              "      <td>5</td>\n",
              "      <td>0</td>\n",
              "      <td>10</td>\n",
              "      <td>10</td>\n",
              "      <td>3</td>\n",
              "      <td>0</td>\n",
              "      <td>5</td>\n",
              "      <td>2</td>\n",
              "      <td>971</td>\n",
              "    </tr>\n",
              "  </tbody>\n",
              "</table>\n",
              "</div>\n",
              "      <button class=\"colab-df-convert\" onclick=\"convertToInteractive('df-f14e93bc-6eb6-45de-b82a-3d3085335dae')\"\n",
              "              title=\"Convert this dataframe to an interactive table.\"\n",
              "              style=\"display:none;\">\n",
              "        \n",
              "  <svg xmlns=\"http://www.w3.org/2000/svg\" height=\"24px\"viewBox=\"0 0 24 24\"\n",
              "       width=\"24px\">\n",
              "    <path d=\"M0 0h24v24H0V0z\" fill=\"none\"/>\n",
              "    <path d=\"M18.56 5.44l.94 2.06.94-2.06 2.06-.94-2.06-.94-.94-2.06-.94 2.06-2.06.94zm-11 1L8.5 8.5l.94-2.06 2.06-.94-2.06-.94L8.5 2.5l-.94 2.06-2.06.94zm10 10l.94 2.06.94-2.06 2.06-.94-2.06-.94-.94-2.06-.94 2.06-2.06.94z\"/><path d=\"M17.41 7.96l-1.37-1.37c-.4-.4-.92-.59-1.43-.59-.52 0-1.04.2-1.43.59L10.3 9.45l-7.72 7.72c-.78.78-.78 2.05 0 2.83L4 21.41c.39.39.9.59 1.41.59.51 0 1.02-.2 1.41-.59l7.78-7.78 2.81-2.81c.8-.78.8-2.07 0-2.86zM5.41 20L4 18.59l7.72-7.72 1.47 1.35L5.41 20z\"/>\n",
              "  </svg>\n",
              "      </button>\n",
              "      \n",
              "  <style>\n",
              "    .colab-df-container {\n",
              "      display:flex;\n",
              "      flex-wrap:wrap;\n",
              "      gap: 12px;\n",
              "    }\n",
              "\n",
              "    .colab-df-convert {\n",
              "      background-color: #E8F0FE;\n",
              "      border: none;\n",
              "      border-radius: 50%;\n",
              "      cursor: pointer;\n",
              "      display: none;\n",
              "      fill: #1967D2;\n",
              "      height: 32px;\n",
              "      padding: 0 0 0 0;\n",
              "      width: 32px;\n",
              "    }\n",
              "\n",
              "    .colab-df-convert:hover {\n",
              "      background-color: #E2EBFA;\n",
              "      box-shadow: 0px 1px 2px rgba(60, 64, 67, 0.3), 0px 1px 3px 1px rgba(60, 64, 67, 0.15);\n",
              "      fill: #174EA6;\n",
              "    }\n",
              "\n",
              "    [theme=dark] .colab-df-convert {\n",
              "      background-color: #3B4455;\n",
              "      fill: #D2E3FC;\n",
              "    }\n",
              "\n",
              "    [theme=dark] .colab-df-convert:hover {\n",
              "      background-color: #434B5C;\n",
              "      box-shadow: 0px 1px 3px 1px rgba(0, 0, 0, 0.15);\n",
              "      filter: drop-shadow(0px 1px 2px rgba(0, 0, 0, 0.3));\n",
              "      fill: #FFFFFF;\n",
              "    }\n",
              "  </style>\n",
              "\n",
              "      <script>\n",
              "        const buttonEl =\n",
              "          document.querySelector('#df-f14e93bc-6eb6-45de-b82a-3d3085335dae button.colab-df-convert');\n",
              "        buttonEl.style.display =\n",
              "          google.colab.kernel.accessAllowed ? 'block' : 'none';\n",
              "\n",
              "        async function convertToInteractive(key) {\n",
              "          const element = document.querySelector('#df-f14e93bc-6eb6-45de-b82a-3d3085335dae');\n",
              "          const dataTable =\n",
              "            await google.colab.kernel.invokeFunction('convertToInteractive',\n",
              "                                                     [key], {});\n",
              "          if (!dataTable) return;\n",
              "\n",
              "          const docLinkHtml = 'Like what you see? Visit the ' +\n",
              "            '<a target=\"_blank\" href=https://colab.research.google.com/notebooks/data_table.ipynb>data table notebook</a>'\n",
              "            + ' to learn more about interactive tables.';\n",
              "          element.innerHTML = '';\n",
              "          dataTable['output_type'] = 'display_data';\n",
              "          await google.colab.output.renderOutput(dataTable, element);\n",
              "          const docLink = document.createElement('div');\n",
              "          docLink.innerHTML = docLinkHtml;\n",
              "          element.appendChild(docLink);\n",
              "        }\n",
              "      </script>\n",
              "    </div>\n",
              "  </div>\n",
              "  "
            ]
          },
          "metadata": {},
          "execution_count": 102
        }
      ],
      "source": [
        "#使用 pandas 中的 crosstab 能夠很方便的建立混淆矩陣。\n",
        "pd.crosstab(y_test_label, prediction, rownames = ['label'], colnames = ['predict'])"
      ]
    }
  ],
  "metadata": {
    "accelerator": "GPU",
    "colab": {
      "provenance": [],
      "include_colab_link": true
    },
    "gpuClass": "standard",
    "kernelspec": {
      "display_name": "Python 3.7.9 ('py37_tensorflow')",
      "language": "python",
      "name": "python3"
    },
    "language_info": {
      "codemirror_mode": {
        "name": "ipython",
        "version": 3
      },
      "file_extension": ".py",
      "mimetype": "text/x-python",
      "name": "python",
      "nbconvert_exporter": "python",
      "pygments_lexer": "ipython3",
      "version": "3.7.9"
    },
    "vscode": {
      "interpreter": {
        "hash": "d194fa7cde35d0544ffd86d7eb28ea43b62c695d72f93f04bc49d19e1b400069"
      }
    }
  },
  "nbformat": 4,
  "nbformat_minor": 0
}